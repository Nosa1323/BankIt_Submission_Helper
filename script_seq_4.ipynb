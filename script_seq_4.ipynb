{
 "cells": [
  {
   "cell_type": "markdown",
   "source": [
    "read file and create annotation table"
   ],
   "metadata": {}
  },
  {
   "cell_type": "code",
   "execution_count": 53,
   "source": [
    "\r\n",
    "import pandas as pd\r\n",
    "annotation = pd.read_excel(r'E:\\Work\\Python\\для Паши\\VEsP-2 rast annotation.xls') #_.xls file input \r\n",
    "annotation_contents = pd.DataFrame(annotation, columns = ['contig_id', 'feature_id', 'type', 'location', 'start', 'stop', 'strand', 'function',\r\n",
    "                                                            'aliases', 'figfam', 'evidence_codes', 'nucleotide_sequence', 'aa_sequence'])\r\n"
   ],
   "outputs": [],
   "metadata": {}
  },
  {
   "cell_type": "markdown",
   "source": [
    "create lists with interesting features from the columns of the original table (annotation_contents)"
   ],
   "metadata": {}
  },
  {
   "cell_type": "code",
   "execution_count": 54,
   "source": [
    "start = annotation_contents.iloc[:, 4].tolist()\r\n",
    "stops = annotation_contents.iloc[:, 5].tolist()\r\n",
    "functions = annotation_contents.iloc[:, 7].tolist()\r\n",
    "types = annotation_contents.iloc[:, 2].tolist()"
   ],
   "outputs": [],
   "metadata": {}
  },
  {
   "cell_type": "markdown",
   "source": [
    "To describe our object, the values transl_table = 11 and codon_start 1 are used. Here the script creates creates lists with the specified features values in expected format."
   ],
   "metadata": {}
  },
  {
   "cell_type": "code",
   "execution_count": 55,
   "source": [
    "\r\n",
    "transl_table = []\r\n",
    "size = len(start)\r\n",
    "transl_table.append('\\n'+'\\t'*3+'transl_table'+'\\t'+'11')\r\n",
    "transl_table = transl_table*size\r\n",
    "\r\n",
    "codon_start = []\r\n",
    "codon_start.append ('\\n'+'\\t'*3+'codon_start'+'\\t'+'1')\r\n",
    "codon_start = codon_start*size\r\n"
   ],
   "outputs": [],
   "metadata": {}
  },
  {
   "cell_type": "markdown",
   "source": [
    "create a list with types according to the required format (tabulation)"
   ],
   "metadata": {}
  },
  {
   "cell_type": "code",
   "execution_count": 56,
   "source": [
    "new_types = []\r\n",
    "for i in types:\r\n",
    "    if i=='peg':\r\n",
    "        new_types.append('\\t' + 'CDS')\r\n",
    "    if i=='repeat':\r\n",
    "        new_types.append('\\t' +'repeat_region')\r\n",
    "    if i=='rna':\r\n",
    "        for j in functions:\r\n",
    "            if 'tRNA' in j:\r\n",
    "               new_types.append('\\t' +'tRNA') \r\n",
    "               break\r\n",
    "            if 'mRNA'in j:\r\n",
    "                new_types.append('\\t' +'mRNA') \r\n"
   ],
   "outputs": [],
   "metadata": {}
  },
  {
   "cell_type": "markdown",
   "source": [
    "find indexes for RNA"
   ],
   "metadata": {}
  },
  {
   "cell_type": "code",
   "execution_count": 57,
   "source": [
    "index_new_types_trna = []\r\n",
    "l=0\r\n",
    "for i in new_types:\r\n",
    "    l+=1\r\n",
    "    if i == ('\\t' +'tRNA') or i==('\\t' +'mRNA') :\r\n",
    "        index_new_types_trna.append(l)\r\n",
    "           "
   ],
   "outputs": [],
   "metadata": {}
  },
  {
   "cell_type": "markdown",
   "source": [
    "Removes transl_table and codon_start features for RNA"
   ],
   "metadata": {}
  },
  {
   "cell_type": "code",
   "execution_count": 58,
   "source": [
    "for i in index_new_types_trna:\r\n",
    "    for j in range(len(transl_table)):\r\n",
    "        if i==j:\r\n",
    "            transl_table[j-1] = ''\r\n",
    "            codon_start[j-1] = ''\r\n",
    "            "
   ],
   "outputs": [],
   "metadata": {}
  },
  {
   "cell_type": "markdown",
   "source": [
    "search index of repeat_region"
   ],
   "metadata": {}
  },
  {
   "cell_type": "code",
   "execution_count": 59,
   "source": [
    "index_repeat_region = []\r\n",
    "l=0\r\n",
    "for i in new_types:\r\n",
    "    l+=1\r\n",
    "    if i == ('\\t' +'repeat_region') or i==('\\t' +'repeat') :\r\n",
    "        index_repeat_region.append(l)\r\n"
   ],
   "outputs": [],
   "metadata": {}
  },
  {
   "cell_type": "markdown",
   "source": [
    "Finds matching indices in the list function and index_repeat_region. Instert rpt_type when indexes match"
   ],
   "metadata": {}
  },
  {
   "cell_type": "code",
   "execution_count": 60,
   "source": [
    "for i in index_repeat_region:\r\n",
    "    for j in range(len(function)+1):\r\n",
    "        #print(i)\r\n",
    "        if i==j:\r\n",
    "            transl_table[j-1] = ''\r\n",
    "            transl_table[j-1] =  ('\\n'+'\\t'*3 +'rpt_type' + '\\t')+ input(\"Insert one: tandem, inverted, flanking, terminal, direct, dispersed, and other\")\r\n",
    "            codon_start[j-1] = ''\r\n",
    "            function [j-1] = ''"
   ],
   "outputs": [],
   "metadata": {}
  },
  {
   "cell_type": "markdown",
   "source": [
    "Adding tabs, new paragraphs for requirements."
   ],
   "metadata": {}
  },
  {
   "cell_type": "code",
   "execution_count": 61,
   "source": [
    "stop =  ['\\t' + str(stop) for stop in stops] \r\n",
    "function=  ['\\n'+'\\t'*3+'product ' + str(function) for function in functions] \r\n"
   ],
   "outputs": [],
   "metadata": {}
  },
  {
   "cell_type": "markdown",
   "source": [
    "Packing lists into a single list"
   ],
   "metadata": {}
  },
  {
   "cell_type": "code",
   "execution_count": 62,
   "source": [
    "#sorting\r\n",
    "n = [list(item) for item in zip(start, stop,new_types, function,transl_table, codon_start)]"
   ],
   "outputs": [],
   "metadata": {
    "tags": []
   }
  },
  {
   "cell_type": "markdown",
   "source": [
    "Export the resulting list to txt"
   ],
   "metadata": {}
  },
  {
   "cell_type": "code",
   "execution_count": 63,
   "source": [
    "\r\n",
    "import csv\r\n",
    "with open('test.txt', 'w') as f:\r\n",
    "    writer = csv.writer(f, lineterminator = '\\r', quoting=csv.QUOTE_NONE, quotechar=',',escapechar='\\\\')\r\n",
    "    writer.writerows(n)"
   ],
   "outputs": [],
   "metadata": {}
  },
  {
   "cell_type": "markdown",
   "source": [
    "Many unnecessary characters appear when saving. To remove them, txt is imported, unnecessary characters are removed and the list is saved in txt"
   ],
   "metadata": {}
  },
  {
   "cell_type": "code",
   "execution_count": 64,
   "source": [
    "#table output\r\n",
    "\r\n",
    "s=[]\r\n",
    "file = open('test.txt')\r\n",
    "for line in file:\r\n",
    "    line = line.rstrip(',')\r\n",
    "\r\n",
    "    for i in line:\r\n",
    "        if ',' in line:\r\n",
    "            line=line.replace(',', '')\r\n",
    "        if  \"\\\\\" in line:\r\n",
    "            line=line.replace('\\\\', '')\r\n",
    "    line = line.replace('\\\\', '',1)\r\n",
    "    s.append(str(line))\r\n",
    "\r\n",
    "with open('test2.txt', 'w') as f:\r\n",
    "    f.writelines(s)\r\n",
    "    \r\n",
    "#print(*s)"
   ],
   "outputs": [],
   "metadata": {
    "tags": []
   }
  }
 ],
 "metadata": {
  "interpreter": {
   "hash": "2515a9ea7848ead3dbadf850efa6a9e940088f939b42cfa09927e6320355794d"
  },
  "kernelspec": {
   "name": "python3",
   "display_name": "Python 3.9.1 64-bit"
  },
  "language_info": {
   "codemirror_mode": {
    "name": "ipython",
    "version": 3
   },
   "file_extension": ".py",
   "mimetype": "text/x-python",
   "name": "python",
   "nbconvert_exporter": "python",
   "pygments_lexer": "ipython3",
   "version": "3.9.1"
  },
  "orig_nbformat": 4
 },
 "nbformat": 4,
 "nbformat_minor": 2
}