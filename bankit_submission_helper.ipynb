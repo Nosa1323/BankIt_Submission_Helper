{
 "cells": [
  {
   "cell_type": "markdown",
   "metadata": {},
   "source": [
    "read file and create annotation table"
   ]
  },
  {
   "cell_type": "code",
   "execution_count": 3,
   "metadata": {},
   "outputs": [],
   "source": [
    "import pandas as pd\n",
    "annotation = pd.read_excel(r'VEsP-2 rast annotation.xls') #_.xls file input \n",
    "annotation_contents = pd.DataFrame(annotation, columns = ['contig_id', 'feature_id', 'type', 'location', 'start', 'stop', 'strand', 'function',\n",
    "                                                            'aliases', 'figfam', 'evidence_codes', 'nucleotide_sequence', 'aa_sequence'])"
   ]
  },
  {
   "cell_type": "markdown",
   "metadata": {},
   "source": [
    "create lists with features from the raw data table (annotation_contents)"
   ]
  },
  {
   "cell_type": "code",
   "execution_count": 10,
   "metadata": {},
   "outputs": [],
   "source": [
    "start = annotation_contents.iloc[:, 4].tolist()\n",
    "stops = annotation_contents.iloc[:, 5].tolist()\n",
    "functions = annotation_contents.iloc[:, 7].tolist()\n",
    "types = annotation_contents.iloc[:, 2].tolist()"
   ]
  },
  {
   "cell_type": "markdown",
   "metadata": {},
   "source": [
    "To describe our object, the values transl_table = 11 and codon_start 1 are used. Here the script creates creates lists with the specified features values in acceptable format."
   ]
  },
  {
   "cell_type": "code",
   "execution_count": 11,
   "metadata": {},
   "outputs": [],
   "source": [
    "transl_table = []\n",
    "size = len(start)\n",
    "transl_table.append('\\n'+'\\t'*3+'transl_table'+'\\t'+'11')\n",
    "transl_table = transl_table*size\n",
    "\n",
    "codon_start = []\n",
    "codon_start.append ('\\n'+'\\t'*3+'codon_start'+'\\t'+'1')\n",
    "codon_start = codon_start*size"
   ]
  },
  {
   "cell_type": "markdown",
   "metadata": {},
   "source": [
    "create a list with types according to the required format (tabulation)"
   ]
  },
  {
   "cell_type": "code",
   "execution_count": 12,
   "metadata": {},
   "outputs": [],
   "source": [
    "required_types = []\n",
    "for i in types:\n",
    "    if i=='peg':\n",
    "        required_types.append('\\t' + 'CDS')\n",
    "    if i=='repeat':\n",
    "        required_types.append('\\t' +'repeat_region')\n",
    "    if i=='rna':\n",
    "        for j in functions:\n",
    "            if 'tRNA' in j:\n",
    "               required_types.append('\\t' +'tRNA') \n",
    "               break\n",
    "            if 'mRNA'in j:\n",
    "                required_types.append('\\t' +'mRNA') \n"
   ]
  },
  {
   "cell_type": "markdown",
   "metadata": {},
   "source": [
    "find indexes for RNA"
   ]
  },
  {
   "cell_type": "code",
   "execution_count": 13,
   "metadata": {},
   "outputs": [],
   "source": [
    "index_trna = []\n",
    "l=0\n",
    "for i in required_types:\n",
    "    l+=1\n",
    "    if i == ('\\t' +'tRNA') or i==('\\t' +'mRNA') :\n",
    "        index_trna.append(l)          "
   ]
  },
  {
   "cell_type": "markdown",
   "metadata": {},
   "source": [
    "Removes transl_table and codon_start features for RNA"
   ]
  },
  {
   "cell_type": "code",
   "execution_count": 14,
   "metadata": {},
   "outputs": [],
   "source": [
    "for i in index_trna:\n",
    "    for j in range(len(transl_table)):\n",
    "        if i==j:\n",
    "            transl_table[j-1] = ''\n",
    "            codon_start[j-1] = ''           "
   ]
  },
  {
   "cell_type": "markdown",
   "metadata": {},
   "source": [
    "search index of repeat_region"
   ]
  },
  {
   "cell_type": "code",
   "execution_count": 15,
   "metadata": {},
   "outputs": [],
   "source": [
    "index_repeat_region = []\n",
    "l=0\n",
    "for i in required_types:\n",
    "    l+=1\n",
    "    if i == ('\\t' +'repeat_region') or i==('\\t' +'repeat') :\n",
    "        index_repeat_region.append(l)"
   ]
  },
  {
   "cell_type": "markdown",
   "metadata": {},
   "source": [
    "Adding tabs, new paragraphs for requirements."
   ]
  },
  {
   "cell_type": "code",
   "execution_count": 16,
   "metadata": {},
   "outputs": [],
   "source": [
    "stop =  ['\\t' + str(stop) for stop in stops] \n",
    "function=  ['\\n'+'\\t'*3+'product ' + str(function) for function in functions] "
   ]
  },
  {
   "cell_type": "markdown",
   "metadata": {},
   "source": [
    "Finds matching indices in the list function and index_repeat_region. Instert rpt_type when indexes match"
   ]
  },
  {
   "cell_type": "code",
   "execution_count": 17,
   "metadata": {},
   "outputs": [],
   "source": [
    "for i in index_repeat_region:\n",
    "    for j in range(len(function)+1):\n",
    "        if i==j:\n",
    "            transl_table[j-1] = ''\n",
    "            transl_table[j-1] =  ('\\n'+'\\t'*3 +'rpt_type' + '\\t')+ input(\"Insert one: tandem, inverted, flanking, terminal, direct, dispersed, and other\")\n",
    "            codon_start[j-1] = ''\n",
    "            function [j-1] = ''"
   ]
  },
  {
   "cell_type": "markdown",
   "metadata": {},
   "source": [
    "Packing lists into a single list"
   ]
  },
  {
   "cell_type": "code",
   "execution_count": 18,
   "metadata": {
    "tags": []
   },
   "outputs": [],
   "source": [
    "n = [list(item) for item in zip(start, stop,required_types, function,transl_table, codon_start)]"
   ]
  },
  {
   "cell_type": "markdown",
   "metadata": {},
   "source": [
    "Export the resulting list to txt"
   ]
  },
  {
   "cell_type": "code",
   "execution_count": 19,
   "metadata": {},
   "outputs": [],
   "source": [
    "import csv\n",
    "with open('test.txt', 'w') as f:\n",
    "    writer = csv.writer(f, lineterminator = '\\r', quoting=csv.QUOTE_NONE, quotechar=',',escapechar='\\\\')\n",
    "    writer.writerows(n)"
   ]
  },
  {
   "cell_type": "markdown",
   "metadata": {},
   "source": [
    "Many unnecessary characters appear when saving. To remove them, txt is imported, unnecessary characters are removed and the list is saved in txt"
   ]
  },
  {
   "cell_type": "code",
   "execution_count": 20,
   "metadata": {
    "tags": []
   },
   "outputs": [],
   "source": [
    "s=[]\n",
    "file = open('test.txt')\n",
    "for line in file:\n",
    "    line = line.rstrip(',')\n",
    "\n",
    "    for i in line:\n",
    "        if ',' in line:\n",
    "            line=line.replace(',', '')\n",
    "        if  \"\\\\\" in line:\n",
    "            line=line.replace('\\\\', '')\n",
    "    line = line.replace('\\\\', '',1)\n",
    "    s.append(str(line))\n",
    "\n",
    "with open('test2.txt', 'w') as f:\n",
    "    f.writelines(s)"
   ]
  }
 ],
 "metadata": {
  "interpreter": {
   "hash": "2515a9ea7848ead3dbadf850efa6a9e940088f939b42cfa09927e6320355794d"
  },
  "kernelspec": {
   "display_name": "Python 3.9.1 64-bit",
   "name": "python3"
  },
  "language_info": {
   "codemirror_mode": {
    "name": "ipython",
    "version": 3
   },
   "file_extension": ".py",
   "mimetype": "text/x-python",
   "name": "python",
   "nbconvert_exporter": "python",
   "pygments_lexer": "ipython3",
   "version": "3.8.8"
  },
  "orig_nbformat": 4
 },
 "nbformat": 4,
 "nbformat_minor": 2
}
